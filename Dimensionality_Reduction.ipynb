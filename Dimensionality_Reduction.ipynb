{
  "nbformat": 4,
  "nbformat_minor": 0,
  "metadata": {
    "colab": {
      "name": "Dimensionality-Reduction.ipynb",
      "provenance": [],
      "mount_file_id": "197Fznu0G_lGkR4EDNPFZm47ZXuOhRjvt",
      "authorship_tag": "ABX9TyMJJBj6V9PyzL2BFn1qIcUB",
      "include_colab_link": true
    },
    "kernelspec": {
      "name": "python3",
      "display_name": "Python 3"
    },
    "language_info": {
      "name": "python"
    }
  },
  "cells": [
    {
      "cell_type": "markdown",
      "metadata": {
        "id": "view-in-github",
        "colab_type": "text"
      },
      "source": [
        "<a href=\"https://colab.research.google.com/github/ahcamachod/1820-machine-learning-lidiando-con-datos-de-muchas-dimensiones/blob/aula-3/Dimensionality_Reduction.ipynb\" target=\"_parent\"><img src=\"https://colab.research.google.com/assets/colab-badge.svg\" alt=\"Open In Colab\"/></a>"
      ]
    },
    {
      "cell_type": "markdown",
      "metadata": {
        "id": "ZZgfWEehIjqS"
      },
      "source": [
        "# Machine Learning: Lidiando con datos de muchas dimensiones\n",
        "\n",
        "Cuando trabajamos con datos que contienen muchas dimensiones, lo recomendable es tomar dichos datos y transformarlos de modo que se ajusten a un espacio dimensional menor asegurándonos de que el espacio dimensional resultante mantenga las propiedades que mejor caracterizan a los datos originales, garantizando su dimensión intrínseca.\n",
        "\n",
        "\n",
        "En este notebook, estaremos aprendiendo varias estrategias para lidiar con la alta dimensionalidad en el modelaje de aprendizaje de máquina.\n",
        "\n",
        "\n",
        "El dataset empleado en el desarrollo de este proyecto es un dataset ficticio, llamado a ```aluracare.csv```, adaptado a nuestro contexto, tomando como referencia el siguiente dataset:  \n",
        "\n",
        "*Dataset:* https://www.kaggle.com/uciml/breast-cancer-wisconsin-data"
      ]
    },
    {
      "cell_type": "markdown",
      "metadata": {
        "id": "t1M-apGPQVH6"
      },
      "source": [
        "# 1. Datos con muchas dimensiones\n",
        "\n",
        "##### *https://scikit-learn.org/stable/modules/generated/sklearn.model_selection.train_test_split.html*\n",
        "\n",
        "*https://scikit-learn.org/stable/modules/generated/sklearn.preprocessing.StandardScaler.html*\n",
        "\n",
        "*https://scikit-learn.org/stable/modules/generated/sklearn.linear_model.LogisticRegression.html*\n",
        "\n",
        "*https://scikit-learn.org/stable/modules/generated/sklearn.ensemble.RandomForestClassifier.html*"
      ]
    },
    {
      "cell_type": "code",
      "metadata": {
        "colab": {
          "base_uri": "https://localhost:8080/",
          "height": 156
        },
        "id": "__unwujmWzfm",
        "outputId": "3817c134-2800-4b5b-bc3a-8a24ac00a1e6"
      },
      "source": [
        "import pandas as pd\n",
        "\n",
        "dataset = pd.read_csv('/content/drive/MyDrive/aluracare.csv')\n",
        "dataset.head(3)"
      ],
      "execution_count": 1,
      "outputs": [
        {
          "output_type": "execute_result",
          "data": {
            "text/html": [
              "<div>\n",
              "<style scoped>\n",
              "    .dataframe tbody tr th:only-of-type {\n",
              "        vertical-align: middle;\n",
              "    }\n",
              "\n",
              "    .dataframe tbody tr th {\n",
              "        vertical-align: top;\n",
              "    }\n",
              "\n",
              "    .dataframe thead th {\n",
              "        text-align: right;\n",
              "    }\n",
              "</style>\n",
              "<table border=\"1\" class=\"dataframe\">\n",
              "  <thead>\n",
              "    <tr style=\"text-align: right;\">\n",
              "      <th></th>\n",
              "      <th>id</th>\n",
              "      <th>diagnostico</th>\n",
              "      <th>examen_1</th>\n",
              "      <th>examen_2</th>\n",
              "      <th>examen_3</th>\n",
              "      <th>examen_4</th>\n",
              "      <th>examen_5</th>\n",
              "      <th>examen_6</th>\n",
              "      <th>examen_7</th>\n",
              "      <th>examen_8</th>\n",
              "      <th>examen_9</th>\n",
              "      <th>examen_10</th>\n",
              "      <th>examen_11</th>\n",
              "      <th>examen_12</th>\n",
              "      <th>examen_13</th>\n",
              "      <th>examen_14</th>\n",
              "      <th>examen_15</th>\n",
              "      <th>examen_16</th>\n",
              "      <th>examen_17</th>\n",
              "      <th>examen_18</th>\n",
              "      <th>examen_19</th>\n",
              "      <th>examen_20</th>\n",
              "      <th>examen_21</th>\n",
              "      <th>examen_22</th>\n",
              "      <th>examen_23</th>\n",
              "      <th>examen_24</th>\n",
              "      <th>examen_25</th>\n",
              "      <th>examen_26</th>\n",
              "      <th>examen_27</th>\n",
              "      <th>examen_28</th>\n",
              "      <th>examen_29</th>\n",
              "      <th>examen_30</th>\n",
              "      <th>examen_31</th>\n",
              "      <th>examen_32</th>\n",
              "      <th>examen_33</th>\n",
              "    </tr>\n",
              "  </thead>\n",
              "  <tbody>\n",
              "    <tr>\n",
              "      <th>0</th>\n",
              "      <td>842302</td>\n",
              "      <td>M</td>\n",
              "      <td>17.99</td>\n",
              "      <td>10.38</td>\n",
              "      <td>122.8</td>\n",
              "      <td>103.78</td>\n",
              "      <td>1001.0</td>\n",
              "      <td>0.11840</td>\n",
              "      <td>0.27760</td>\n",
              "      <td>0.3001</td>\n",
              "      <td>0.14710</td>\n",
              "      <td>0.2419</td>\n",
              "      <td>0.07871</td>\n",
              "      <td>1.0950</td>\n",
              "      <td>0.9053</td>\n",
              "      <td>8.589</td>\n",
              "      <td>153.40</td>\n",
              "      <td>0.006399</td>\n",
              "      <td>0.04904</td>\n",
              "      <td>0.05373</td>\n",
              "      <td>0.01587</td>\n",
              "      <td>0.03003</td>\n",
              "      <td>0.006193</td>\n",
              "      <td>25.38</td>\n",
              "      <td>17.33</td>\n",
              "      <td>184.6</td>\n",
              "      <td>2019.0</td>\n",
              "      <td>0.1622</td>\n",
              "      <td>0.6656</td>\n",
              "      <td>0.7119</td>\n",
              "      <td>0.786</td>\n",
              "      <td>0.2654</td>\n",
              "      <td>0.4601</td>\n",
              "      <td>0.11890</td>\n",
              "      <td>NaN</td>\n",
              "    </tr>\n",
              "    <tr>\n",
              "      <th>1</th>\n",
              "      <td>842517</td>\n",
              "      <td>M</td>\n",
              "      <td>20.57</td>\n",
              "      <td>17.77</td>\n",
              "      <td>132.9</td>\n",
              "      <td>103.78</td>\n",
              "      <td>1326.0</td>\n",
              "      <td>0.08474</td>\n",
              "      <td>0.07864</td>\n",
              "      <td>0.0869</td>\n",
              "      <td>0.07017</td>\n",
              "      <td>0.1812</td>\n",
              "      <td>0.05667</td>\n",
              "      <td>0.5435</td>\n",
              "      <td>0.7339</td>\n",
              "      <td>3.398</td>\n",
              "      <td>74.08</td>\n",
              "      <td>0.005225</td>\n",
              "      <td>0.01308</td>\n",
              "      <td>0.01860</td>\n",
              "      <td>0.01340</td>\n",
              "      <td>0.01389</td>\n",
              "      <td>0.003532</td>\n",
              "      <td>24.99</td>\n",
              "      <td>23.41</td>\n",
              "      <td>158.8</td>\n",
              "      <td>1956.0</td>\n",
              "      <td>0.1238</td>\n",
              "      <td>0.1866</td>\n",
              "      <td>0.2416</td>\n",
              "      <td>0.786</td>\n",
              "      <td>0.1860</td>\n",
              "      <td>0.2750</td>\n",
              "      <td>0.08902</td>\n",
              "      <td>NaN</td>\n",
              "    </tr>\n",
              "    <tr>\n",
              "      <th>2</th>\n",
              "      <td>84300903</td>\n",
              "      <td>M</td>\n",
              "      <td>19.69</td>\n",
              "      <td>21.25</td>\n",
              "      <td>130.0</td>\n",
              "      <td>103.78</td>\n",
              "      <td>1203.0</td>\n",
              "      <td>0.10960</td>\n",
              "      <td>0.15990</td>\n",
              "      <td>0.1974</td>\n",
              "      <td>0.12790</td>\n",
              "      <td>0.2069</td>\n",
              "      <td>0.05999</td>\n",
              "      <td>0.7456</td>\n",
              "      <td>0.7869</td>\n",
              "      <td>4.585</td>\n",
              "      <td>94.03</td>\n",
              "      <td>0.006150</td>\n",
              "      <td>0.04006</td>\n",
              "      <td>0.03832</td>\n",
              "      <td>0.02058</td>\n",
              "      <td>0.02250</td>\n",
              "      <td>0.004571</td>\n",
              "      <td>23.57</td>\n",
              "      <td>25.53</td>\n",
              "      <td>152.5</td>\n",
              "      <td>1709.0</td>\n",
              "      <td>0.1444</td>\n",
              "      <td>0.4245</td>\n",
              "      <td>0.4504</td>\n",
              "      <td>0.786</td>\n",
              "      <td>0.2430</td>\n",
              "      <td>0.3613</td>\n",
              "      <td>0.08758</td>\n",
              "      <td>NaN</td>\n",
              "    </tr>\n",
              "  </tbody>\n",
              "</table>\n",
              "</div>"
            ],
            "text/plain": [
              "         id diagnostico  examen_1  ...  examen_31  examen_32  examen_33\n",
              "0    842302           M     17.99  ...     0.4601    0.11890        NaN\n",
              "1    842517           M     20.57  ...     0.2750    0.08902        NaN\n",
              "2  84300903           M     19.69  ...     0.3613    0.08758        NaN\n",
              "\n",
              "[3 rows x 35 columns]"
            ]
          },
          "metadata": {
            "tags": []
          },
          "execution_count": 1
        }
      ]
    },
    {
      "cell_type": "code",
      "metadata": {
        "colab": {
          "base_uri": "https://localhost:8080/"
        },
        "id": "FHOViOezWziE",
        "outputId": "4e7e9999-8cc1-4f8b-b01e-49bad11e24b2"
      },
      "source": [
        "dataset.shape"
      ],
      "execution_count": 2,
      "outputs": [
        {
          "output_type": "execute_result",
          "data": {
            "text/plain": [
              "(569, 35)"
            ]
          },
          "metadata": {
            "tags": []
          },
          "execution_count": 2
        }
      ]
    },
    {
      "cell_type": "code",
      "metadata": {
        "colab": {
          "base_uri": "https://localhost:8080/"
        },
        "id": "3hDgg2JlWzt1",
        "outputId": "435279f6-083b-4140-92e3-34ce6c94e49b"
      },
      "source": [
        "dataset.diagnostico.value_counts()"
      ],
      "execution_count": 3,
      "outputs": [
        {
          "output_type": "execute_result",
          "data": {
            "text/plain": [
              "B    357\n",
              "M    212\n",
              "Name: diagnostico, dtype: int64"
            ]
          },
          "metadata": {
            "tags": []
          },
          "execution_count": 3
        }
      ]
    },
    {
      "cell_type": "code",
      "metadata": {
        "colab": {
          "base_uri": "https://localhost:8080/"
        },
        "id": "4kpY9T9GXeo6",
        "outputId": "352921de-7a28-494b-cee5-dad390c10250"
      },
      "source": [
        "dataset.isna().sum()"
      ],
      "execution_count": 4,
      "outputs": [
        {
          "output_type": "execute_result",
          "data": {
            "text/plain": [
              "id               0\n",
              "diagnostico      0\n",
              "examen_1         0\n",
              "examen_2         0\n",
              "examen_3         0\n",
              "examen_4         0\n",
              "examen_5         0\n",
              "examen_6         0\n",
              "examen_7         0\n",
              "examen_8         0\n",
              "examen_9         0\n",
              "examen_10        0\n",
              "examen_11        0\n",
              "examen_12        0\n",
              "examen_13        0\n",
              "examen_14        0\n",
              "examen_15        0\n",
              "examen_16        0\n",
              "examen_17        0\n",
              "examen_18        0\n",
              "examen_19        0\n",
              "examen_20        0\n",
              "examen_21        0\n",
              "examen_22        0\n",
              "examen_23        0\n",
              "examen_24        0\n",
              "examen_25        0\n",
              "examen_26        0\n",
              "examen_27        0\n",
              "examen_28        0\n",
              "examen_29        0\n",
              "examen_30        0\n",
              "examen_31        0\n",
              "examen_32        0\n",
              "examen_33      419\n",
              "dtype: int64"
            ]
          },
          "metadata": {
            "tags": []
          },
          "execution_count": 4
        }
      ]
    },
    {
      "cell_type": "code",
      "metadata": {
        "colab": {
          "base_uri": "https://localhost:8080/",
          "height": 215
        },
        "id": "dIKkxeuLXevz",
        "outputId": "5107b8de-33b5-4711-86a6-4805f764caac"
      },
      "source": [
        "dataset.drop(columns=['id','examen_33'], axis=1, inplace=True)\n",
        "dataset.diagnostico.replace('M', 1, inplace=True)\n",
        "dataset.diagnostico.replace('B', 0, inplace=True)\n",
        "dataset.head()"
      ],
      "execution_count": 5,
      "outputs": [
        {
          "output_type": "execute_result",
          "data": {
            "text/html": [
              "<div>\n",
              "<style scoped>\n",
              "    .dataframe tbody tr th:only-of-type {\n",
              "        vertical-align: middle;\n",
              "    }\n",
              "\n",
              "    .dataframe tbody tr th {\n",
              "        vertical-align: top;\n",
              "    }\n",
              "\n",
              "    .dataframe thead th {\n",
              "        text-align: right;\n",
              "    }\n",
              "</style>\n",
              "<table border=\"1\" class=\"dataframe\">\n",
              "  <thead>\n",
              "    <tr style=\"text-align: right;\">\n",
              "      <th></th>\n",
              "      <th>diagnostico</th>\n",
              "      <th>examen_1</th>\n",
              "      <th>examen_2</th>\n",
              "      <th>examen_3</th>\n",
              "      <th>examen_4</th>\n",
              "      <th>examen_5</th>\n",
              "      <th>examen_6</th>\n",
              "      <th>examen_7</th>\n",
              "      <th>examen_8</th>\n",
              "      <th>examen_9</th>\n",
              "      <th>examen_10</th>\n",
              "      <th>examen_11</th>\n",
              "      <th>examen_12</th>\n",
              "      <th>examen_13</th>\n",
              "      <th>examen_14</th>\n",
              "      <th>examen_15</th>\n",
              "      <th>examen_16</th>\n",
              "      <th>examen_17</th>\n",
              "      <th>examen_18</th>\n",
              "      <th>examen_19</th>\n",
              "      <th>examen_20</th>\n",
              "      <th>examen_21</th>\n",
              "      <th>examen_22</th>\n",
              "      <th>examen_23</th>\n",
              "      <th>examen_24</th>\n",
              "      <th>examen_25</th>\n",
              "      <th>examen_26</th>\n",
              "      <th>examen_27</th>\n",
              "      <th>examen_28</th>\n",
              "      <th>examen_29</th>\n",
              "      <th>examen_30</th>\n",
              "      <th>examen_31</th>\n",
              "      <th>examen_32</th>\n",
              "    </tr>\n",
              "  </thead>\n",
              "  <tbody>\n",
              "    <tr>\n",
              "      <th>0</th>\n",
              "      <td>1</td>\n",
              "      <td>17.99</td>\n",
              "      <td>10.38</td>\n",
              "      <td>122.80</td>\n",
              "      <td>103.78</td>\n",
              "      <td>1001.0</td>\n",
              "      <td>0.11840</td>\n",
              "      <td>0.27760</td>\n",
              "      <td>0.3001</td>\n",
              "      <td>0.14710</td>\n",
              "      <td>0.2419</td>\n",
              "      <td>0.07871</td>\n",
              "      <td>1.0950</td>\n",
              "      <td>0.9053</td>\n",
              "      <td>8.589</td>\n",
              "      <td>153.40</td>\n",
              "      <td>0.006399</td>\n",
              "      <td>0.04904</td>\n",
              "      <td>0.05373</td>\n",
              "      <td>0.01587</td>\n",
              "      <td>0.03003</td>\n",
              "      <td>0.006193</td>\n",
              "      <td>25.38</td>\n",
              "      <td>17.33</td>\n",
              "      <td>184.60</td>\n",
              "      <td>2019.0</td>\n",
              "      <td>0.1622</td>\n",
              "      <td>0.6656</td>\n",
              "      <td>0.7119</td>\n",
              "      <td>0.786</td>\n",
              "      <td>0.2654</td>\n",
              "      <td>0.4601</td>\n",
              "      <td>0.11890</td>\n",
              "    </tr>\n",
              "    <tr>\n",
              "      <th>1</th>\n",
              "      <td>1</td>\n",
              "      <td>20.57</td>\n",
              "      <td>17.77</td>\n",
              "      <td>132.90</td>\n",
              "      <td>103.78</td>\n",
              "      <td>1326.0</td>\n",
              "      <td>0.08474</td>\n",
              "      <td>0.07864</td>\n",
              "      <td>0.0869</td>\n",
              "      <td>0.07017</td>\n",
              "      <td>0.1812</td>\n",
              "      <td>0.05667</td>\n",
              "      <td>0.5435</td>\n",
              "      <td>0.7339</td>\n",
              "      <td>3.398</td>\n",
              "      <td>74.08</td>\n",
              "      <td>0.005225</td>\n",
              "      <td>0.01308</td>\n",
              "      <td>0.01860</td>\n",
              "      <td>0.01340</td>\n",
              "      <td>0.01389</td>\n",
              "      <td>0.003532</td>\n",
              "      <td>24.99</td>\n",
              "      <td>23.41</td>\n",
              "      <td>158.80</td>\n",
              "      <td>1956.0</td>\n",
              "      <td>0.1238</td>\n",
              "      <td>0.1866</td>\n",
              "      <td>0.2416</td>\n",
              "      <td>0.786</td>\n",
              "      <td>0.1860</td>\n",
              "      <td>0.2750</td>\n",
              "      <td>0.08902</td>\n",
              "    </tr>\n",
              "    <tr>\n",
              "      <th>2</th>\n",
              "      <td>1</td>\n",
              "      <td>19.69</td>\n",
              "      <td>21.25</td>\n",
              "      <td>130.00</td>\n",
              "      <td>103.78</td>\n",
              "      <td>1203.0</td>\n",
              "      <td>0.10960</td>\n",
              "      <td>0.15990</td>\n",
              "      <td>0.1974</td>\n",
              "      <td>0.12790</td>\n",
              "      <td>0.2069</td>\n",
              "      <td>0.05999</td>\n",
              "      <td>0.7456</td>\n",
              "      <td>0.7869</td>\n",
              "      <td>4.585</td>\n",
              "      <td>94.03</td>\n",
              "      <td>0.006150</td>\n",
              "      <td>0.04006</td>\n",
              "      <td>0.03832</td>\n",
              "      <td>0.02058</td>\n",
              "      <td>0.02250</td>\n",
              "      <td>0.004571</td>\n",
              "      <td>23.57</td>\n",
              "      <td>25.53</td>\n",
              "      <td>152.50</td>\n",
              "      <td>1709.0</td>\n",
              "      <td>0.1444</td>\n",
              "      <td>0.4245</td>\n",
              "      <td>0.4504</td>\n",
              "      <td>0.786</td>\n",
              "      <td>0.2430</td>\n",
              "      <td>0.3613</td>\n",
              "      <td>0.08758</td>\n",
              "    </tr>\n",
              "    <tr>\n",
              "      <th>3</th>\n",
              "      <td>1</td>\n",
              "      <td>11.42</td>\n",
              "      <td>20.38</td>\n",
              "      <td>77.58</td>\n",
              "      <td>103.78</td>\n",
              "      <td>386.1</td>\n",
              "      <td>0.14250</td>\n",
              "      <td>0.28390</td>\n",
              "      <td>0.2414</td>\n",
              "      <td>0.10520</td>\n",
              "      <td>0.2597</td>\n",
              "      <td>0.09744</td>\n",
              "      <td>0.4956</td>\n",
              "      <td>1.1560</td>\n",
              "      <td>3.445</td>\n",
              "      <td>27.23</td>\n",
              "      <td>0.009110</td>\n",
              "      <td>0.07458</td>\n",
              "      <td>0.05661</td>\n",
              "      <td>0.01867</td>\n",
              "      <td>0.05963</td>\n",
              "      <td>0.009208</td>\n",
              "      <td>14.91</td>\n",
              "      <td>26.50</td>\n",
              "      <td>98.87</td>\n",
              "      <td>567.7</td>\n",
              "      <td>0.2098</td>\n",
              "      <td>0.8663</td>\n",
              "      <td>0.6869</td>\n",
              "      <td>0.786</td>\n",
              "      <td>0.2575</td>\n",
              "      <td>0.6638</td>\n",
              "      <td>0.17300</td>\n",
              "    </tr>\n",
              "    <tr>\n",
              "      <th>4</th>\n",
              "      <td>1</td>\n",
              "      <td>20.29</td>\n",
              "      <td>14.34</td>\n",
              "      <td>135.10</td>\n",
              "      <td>103.78</td>\n",
              "      <td>1297.0</td>\n",
              "      <td>0.10030</td>\n",
              "      <td>0.13280</td>\n",
              "      <td>0.1980</td>\n",
              "      <td>0.10430</td>\n",
              "      <td>0.1809</td>\n",
              "      <td>0.05883</td>\n",
              "      <td>0.7572</td>\n",
              "      <td>0.7813</td>\n",
              "      <td>5.438</td>\n",
              "      <td>94.44</td>\n",
              "      <td>0.011490</td>\n",
              "      <td>0.02461</td>\n",
              "      <td>0.05688</td>\n",
              "      <td>0.01885</td>\n",
              "      <td>0.01756</td>\n",
              "      <td>0.005115</td>\n",
              "      <td>22.54</td>\n",
              "      <td>16.67</td>\n",
              "      <td>152.20</td>\n",
              "      <td>1575.0</td>\n",
              "      <td>0.1374</td>\n",
              "      <td>0.2050</td>\n",
              "      <td>0.4000</td>\n",
              "      <td>0.786</td>\n",
              "      <td>0.1625</td>\n",
              "      <td>0.2364</td>\n",
              "      <td>0.07678</td>\n",
              "    </tr>\n",
              "  </tbody>\n",
              "</table>\n",
              "</div>"
            ],
            "text/plain": [
              "   diagnostico  examen_1  examen_2  ...  examen_30  examen_31  examen_32\n",
              "0            1     17.99     10.38  ...     0.2654     0.4601    0.11890\n",
              "1            1     20.57     17.77  ...     0.1860     0.2750    0.08902\n",
              "2            1     19.69     21.25  ...     0.2430     0.3613    0.08758\n",
              "3            1     11.42     20.38  ...     0.2575     0.6638    0.17300\n",
              "4            1     20.29     14.34  ...     0.1625     0.2364    0.07678\n",
              "\n",
              "[5 rows x 33 columns]"
            ]
          },
          "metadata": {
            "tags": []
          },
          "execution_count": 5
        }
      ]
    },
    {
      "cell_type": "code",
      "metadata": {
        "id": "PJDtwNkMXe0T"
      },
      "source": [
        "from sklearn.model_selection import train_test_split\n",
        "from sklearn.preprocessing import StandardScaler\n",
        "\n",
        "X = dataset.drop(columns='diagnostico', axis=1)\n",
        "y = dataset.diagnostico\n",
        "X_std = StandardScaler().fit_transform(X)\n",
        "X_train, X_test, y_train, y_test = train_test_split(X_std, y, random_state= 42, test_size= 0.3)"
      ],
      "execution_count": 6,
      "outputs": []
    },
    {
      "cell_type": "code",
      "metadata": {
        "colab": {
          "base_uri": "https://localhost:8080/"
        },
        "id": "lU_q-2AtYU7g",
        "outputId": "a79546b7-1045-4034-d74c-91e6b7b8cfda"
      },
      "source": [
        "from sklearn.linear_model import LogisticRegression\n",
        "\n",
        "logistic = LogisticRegression(C=100, n_jobs=-1)\n",
        "logistic.fit(X_train, y_train)"
      ],
      "execution_count": 7,
      "outputs": [
        {
          "output_type": "execute_result",
          "data": {
            "text/plain": [
              "LogisticRegression(C=100, class_weight=None, dual=False, fit_intercept=True,\n",
              "                   intercept_scaling=1, l1_ratio=None, max_iter=100,\n",
              "                   multi_class='auto', n_jobs=-1, penalty='l2',\n",
              "                   random_state=None, solver='lbfgs', tol=0.0001, verbose=0,\n",
              "                   warm_start=False)"
            ]
          },
          "metadata": {
            "tags": []
          },
          "execution_count": 7
        }
      ]
    },
    {
      "cell_type": "code",
      "metadata": {
        "colab": {
          "base_uri": "https://localhost:8080/"
        },
        "id": "jaADDjrRYVB7",
        "outputId": "835677d9-6786-4325-8336-9bc523642abe"
      },
      "source": [
        "logistic.score(X_test,y_test)"
      ],
      "execution_count": 8,
      "outputs": [
        {
          "output_type": "execute_result",
          "data": {
            "text/plain": [
              "0.9590643274853801"
            ]
          },
          "metadata": {
            "tags": []
          },
          "execution_count": 8
        }
      ]
    },
    {
      "cell_type": "code",
      "metadata": {
        "colab": {
          "base_uri": "https://localhost:8080/"
        },
        "id": "4DcVGqO8g9gb",
        "outputId": "12cd582c-fb48-4044-d664-f05c640b4c19"
      },
      "source": [
        "logistic = LogisticRegression(C=1, n_jobs=-1)\n",
        "logistic.fit(X_train, y_train)"
      ],
      "execution_count": 9,
      "outputs": [
        {
          "output_type": "execute_result",
          "data": {
            "text/plain": [
              "LogisticRegression(C=1, class_weight=None, dual=False, fit_intercept=True,\n",
              "                   intercept_scaling=1, l1_ratio=None, max_iter=100,\n",
              "                   multi_class='auto', n_jobs=-1, penalty='l2',\n",
              "                   random_state=None, solver='lbfgs', tol=0.0001, verbose=0,\n",
              "                   warm_start=False)"
            ]
          },
          "metadata": {
            "tags": []
          },
          "execution_count": 9
        }
      ]
    },
    {
      "cell_type": "code",
      "metadata": {
        "colab": {
          "base_uri": "https://localhost:8080/"
        },
        "id": "Orq-CY4Ag9ji",
        "outputId": "c9b07d2d-eaec-4204-bfb1-a0c8f9fc075e"
      },
      "source": [
        "logistic.score(X_test, y_test)"
      ],
      "execution_count": 10,
      "outputs": [
        {
          "output_type": "execute_result",
          "data": {
            "text/plain": [
              "0.9824561403508771"
            ]
          },
          "metadata": {
            "tags": []
          },
          "execution_count": 10
        }
      ]
    },
    {
      "cell_type": "code",
      "metadata": {
        "colab": {
          "base_uri": "https://localhost:8080/"
        },
        "id": "m4k93fnghnna",
        "outputId": "5fcb13ff-c9f8-44e1-b3f5-686a7ea5b012"
      },
      "source": [
        "from sklearn.ensemble import RandomForestClassifier\n",
        "\n",
        "forest = RandomForestClassifier()\n",
        "forest.fit(X_train, y_train)"
      ],
      "execution_count": 11,
      "outputs": [
        {
          "output_type": "execute_result",
          "data": {
            "text/plain": [
              "RandomForestClassifier(bootstrap=True, ccp_alpha=0.0, class_weight=None,\n",
              "                       criterion='gini', max_depth=None, max_features='auto',\n",
              "                       max_leaf_nodes=None, max_samples=None,\n",
              "                       min_impurity_decrease=0.0, min_impurity_split=None,\n",
              "                       min_samples_leaf=1, min_samples_split=2,\n",
              "                       min_weight_fraction_leaf=0.0, n_estimators=100,\n",
              "                       n_jobs=None, oob_score=False, random_state=None,\n",
              "                       verbose=0, warm_start=False)"
            ]
          },
          "metadata": {
            "tags": []
          },
          "execution_count": 11
        }
      ]
    },
    {
      "cell_type": "code",
      "metadata": {
        "colab": {
          "base_uri": "https://localhost:8080/"
        },
        "id": "C3WW6TSKhnqo",
        "outputId": "8cef05e5-7fa2-4872-f35a-5656607dc825"
      },
      "source": [
        "forest.score(X_test, y_test)"
      ],
      "execution_count": 12,
      "outputs": [
        {
          "output_type": "execute_result",
          "data": {
            "text/plain": [
              "0.9649122807017544"
            ]
          },
          "metadata": {
            "tags": []
          },
          "execution_count": 12
        }
      ]
    },
    {
      "cell_type": "markdown",
      "metadata": {
        "id": "xOEG2FQQMh2t"
      },
      "source": [
        "# 2. Avanzando y explorando los datos\n",
        "\n",
        "##### *https://seaborn.pydata.org/introduction.html*\n",
        "*https://matplotlib.org/stable/api/_as_gen/matplotlib.pyplot.html*"
      ]
    },
    {
      "cell_type": "code",
      "metadata": {
        "colab": {
          "base_uri": "https://localhost:8080/",
          "height": 593
        },
        "id": "M3ZBjsp5aMR2",
        "outputId": "92955271-64c9-48b6-baa0-9173bafa5a7b"
      },
      "source": [
        "import seaborn as sns\n",
        "import matplotlib.pyplot as plt\n",
        "\n",
        "datos= pd.concat([y,X], axis= 1)\n",
        "datos= pd.melt(datos, id_vars='diagnostico', var_name='examenes', value_name='resultados')\n",
        "plt.figure(figsize=(10,8))\n",
        "sns.violinplot(data= datos, x= 'examenes', y= 'resultados', hue= 'diagnostico', split=True)\n",
        "plt.xticks(rotation=60)"
      ],
      "execution_count": 13,
      "outputs": [
        {
          "output_type": "execute_result",
          "data": {
            "text/plain": [
              "(array([ 0,  1,  2,  3,  4,  5,  6,  7,  8,  9, 10, 11, 12, 13, 14, 15, 16,\n",
              "        17, 18, 19, 20, 21, 22, 23, 24, 25, 26, 27, 28, 29, 30, 31]),\n",
              " <a list of 32 Text major ticklabel objects>)"
            ]
          },
          "metadata": {
            "tags": []
          },
          "execution_count": 13
        },
        {
          "output_type": "display_data",
          "data": {
            "image/png": "[encoded data removed]",
            "text/plain": [
              "<Figure size 720x576 with 1 Axes>"
            ]
          },
          "metadata": {
            "tags": [],
            "needs_background": "light"
          }
        }
      ]
    },
    {
      "cell_type": "code",
      "metadata": {
        "colab": {
          "base_uri": "https://localhost:8080/",
          "height": 542
        },
        "id": "CVP5P0COcFGp",
        "outputId": "2aa3b75f-5de8-44b3-db3f-1cff0903ac87"
      },
      "source": [
        "X1 = pd.DataFrame(X_std, columns= X.keys())\n",
        "\n",
        "def violin(inicio, fin):\n",
        "  datos= pd.concat([y,X1.iloc[:,inicio:fin]], axis= 1)\n",
        "  datos= pd.melt(datos, id_vars='diagnostico', var_name='examenes', value_name='resultados')\n",
        "  plt.figure(figsize=(10,8))\n",
        "  sns.violinplot(data= datos, x= 'examenes', y= 'resultados', hue= 'diagnostico', split=True)\n",
        "  plt.xticks(rotation=60)\n",
        "\n",
        "violin(0,10)"
      ],
      "execution_count": 14,
      "outputs": [
        {
          "output_type": "display_data",
          "data": {
            "image/png": "[encoded data removed]",
            "text/plain": [
              "<Figure size 720x576 with 1 Axes>"
            ]
          },
          "metadata": {
            "tags": [],
            "needs_background": "light"
          }
        }
      ]
    },
    {
      "cell_type": "code",
      "metadata": {
        "colab": {
          "base_uri": "https://localhost:8080/",
          "height": 542
        },
        "id": "7bqySJducp5e",
        "outputId": "39dc98ab-2313-45c7-cf71-f475388b16e3"
      },
      "source": [
        "violin(10,20)"
      ],
      "execution_count": 15,
      "outputs": [
        {
          "output_type": "display_data",
          "data": {
            "image/png": "[encoded data removed]",
            "text/plain": [
              "<Figure size 720x576 with 1 Axes>"
            ]
          },
          "metadata": {
            "tags": [],
            "needs_background": "light"
          }
        }
      ]
    },
    {
      "cell_type": "code",
      "metadata": {
        "colab": {
          "base_uri": "https://localhost:8080/",
          "height": 542
        },
        "id": "2XipwcjJcFOE",
        "outputId": "729d6928-2927-4849-ef6b-2f0bbc745f54"
      },
      "source": [
        "violin(20,32)"
      ],
      "execution_count": 16,
      "outputs": [
        {
          "output_type": "display_data",
          "data": {
            "image/png": "[encoded data removed]",
            "text/plain": [
              "<Figure size 720x576 with 1 Axes>"
            ]
          },
          "metadata": {
            "tags": [],
            "needs_background": "light"
          }
        }
      ]
    },
    {
      "cell_type": "code",
      "metadata": {
        "id": "TPxaP3V2nETP"
      },
      "source": [
        "X2 = X1.drop(columns=['examen_29','examen_4'], axis=1)"
      ],
      "execution_count": 17,
      "outputs": []
    },
    {
      "cell_type": "code",
      "metadata": {
        "colab": {
          "base_uri": "https://localhost:8080/",
          "height": 126
        },
        "id": "dQnyOhO8nEWP",
        "outputId": "80dd0191-4be8-4c17-c459-32de4ccfafd9"
      },
      "source": [
        "X2.head(2)"
      ],
      "execution_count": 18,
      "outputs": [
        {
          "output_type": "execute_result",
          "data": {
            "text/html": [
              "<div>\n",
              "<style scoped>\n",
              "    .dataframe tbody tr th:only-of-type {\n",
              "        vertical-align: middle;\n",
              "    }\n",
              "\n",
              "    .dataframe tbody tr th {\n",
              "        vertical-align: top;\n",
              "    }\n",
              "\n",
              "    .dataframe thead th {\n",
              "        text-align: right;\n",
              "    }\n",
              "</style>\n",
              "<table border=\"1\" class=\"dataframe\">\n",
              "  <thead>\n",
              "    <tr style=\"text-align: right;\">\n",
              "      <th></th>\n",
              "      <th>examen_1</th>\n",
              "      <th>examen_2</th>\n",
              "      <th>examen_3</th>\n",
              "      <th>examen_5</th>\n",
              "      <th>examen_6</th>\n",
              "      <th>examen_7</th>\n",
              "      <th>examen_8</th>\n",
              "      <th>examen_9</th>\n",
              "      <th>examen_10</th>\n",
              "      <th>examen_11</th>\n",
              "      <th>examen_12</th>\n",
              "      <th>examen_13</th>\n",
              "      <th>examen_14</th>\n",
              "      <th>examen_15</th>\n",
              "      <th>examen_16</th>\n",
              "      <th>examen_17</th>\n",
              "      <th>examen_18</th>\n",
              "      <th>examen_19</th>\n",
              "      <th>examen_20</th>\n",
              "      <th>examen_21</th>\n",
              "      <th>examen_22</th>\n",
              "      <th>examen_23</th>\n",
              "      <th>examen_24</th>\n",
              "      <th>examen_25</th>\n",
              "      <th>examen_26</th>\n",
              "      <th>examen_27</th>\n",
              "      <th>examen_28</th>\n",
              "      <th>examen_30</th>\n",
              "      <th>examen_31</th>\n",
              "      <th>examen_32</th>\n",
              "    </tr>\n",
              "  </thead>\n",
              "  <tbody>\n",
              "    <tr>\n",
              "      <th>0</th>\n",
              "      <td>1.097064</td>\n",
              "      <td>-2.073335</td>\n",
              "      <td>1.269934</td>\n",
              "      <td>0.984375</td>\n",
              "      <td>1.568466</td>\n",
              "      <td>3.283515</td>\n",
              "      <td>2.652874</td>\n",
              "      <td>2.532475</td>\n",
              "      <td>2.217515</td>\n",
              "      <td>2.255747</td>\n",
              "      <td>2.489734</td>\n",
              "      <td>-0.565265</td>\n",
              "      <td>2.833031</td>\n",
              "      <td>2.487578</td>\n",
              "      <td>-0.214002</td>\n",
              "      <td>1.316862</td>\n",
              "      <td>0.724026</td>\n",
              "      <td>0.660820</td>\n",
              "      <td>1.148757</td>\n",
              "      <td>0.907083</td>\n",
              "      <td>1.886690</td>\n",
              "      <td>-1.359293</td>\n",
              "      <td>2.303601</td>\n",
              "      <td>2.001237</td>\n",
              "      <td>1.307686</td>\n",
              "      <td>2.616665</td>\n",
              "      <td>2.109526</td>\n",
              "      <td>2.296076</td>\n",
              "      <td>2.750622</td>\n",
              "      <td>1.937015</td>\n",
              "    </tr>\n",
              "    <tr>\n",
              "      <th>1</th>\n",
              "      <td>1.829821</td>\n",
              "      <td>-0.353632</td>\n",
              "      <td>1.685955</td>\n",
              "      <td>1.908708</td>\n",
              "      <td>-0.826962</td>\n",
              "      <td>-0.487072</td>\n",
              "      <td>-0.023846</td>\n",
              "      <td>0.548144</td>\n",
              "      <td>0.001392</td>\n",
              "      <td>-0.868652</td>\n",
              "      <td>0.499255</td>\n",
              "      <td>-0.876244</td>\n",
              "      <td>0.263327</td>\n",
              "      <td>0.742402</td>\n",
              "      <td>-0.605351</td>\n",
              "      <td>-0.692926</td>\n",
              "      <td>-0.440780</td>\n",
              "      <td>0.260162</td>\n",
              "      <td>-0.805450</td>\n",
              "      <td>-0.099444</td>\n",
              "      <td>1.805927</td>\n",
              "      <td>-0.369203</td>\n",
              "      <td>1.535126</td>\n",
              "      <td>1.890489</td>\n",
              "      <td>-0.375612</td>\n",
              "      <td>-0.430444</td>\n",
              "      <td>-0.146749</td>\n",
              "      <td>1.087084</td>\n",
              "      <td>-0.243890</td>\n",
              "      <td>0.281190</td>\n",
              "    </tr>\n",
              "  </tbody>\n",
              "</table>\n",
              "</div>"
            ],
            "text/plain": [
              "   examen_1  examen_2  examen_3  ...  examen_30  examen_31  examen_32\n",
              "0  1.097064 -2.073335  1.269934  ...   2.296076   2.750622   1.937015\n",
              "1  1.829821 -0.353632  1.685955  ...   1.087084  -0.243890   0.281190\n",
              "\n",
              "[2 rows x 30 columns]"
            ]
          },
          "metadata": {
            "tags": []
          },
          "execution_count": 18
        }
      ]
    },
    {
      "cell_type": "code",
      "metadata": {
        "colab": {
          "base_uri": "https://localhost:8080/"
        },
        "id": "bU5N3o81nEYo",
        "outputId": "f5264b7a-505c-4bc2-f9e8-3525214b6a85"
      },
      "source": [
        "def puntaje(resultados):  \n",
        "  X_train, X_test, y_train, y_test = train_test_split(resultados, y, random_state= 42, test_size= 0.3)\n",
        "  logistic = LogisticRegression(C=1, n_jobs=-1)\n",
        "  logistic.fit(X_train, y_train)\n",
        "  return f'La exactitud es: {round(logistic.score(X_test, y_test)*100,2)}%'\n",
        "\n",
        "print(puntaje(X1))"
      ],
      "execution_count": 19,
      "outputs": [
        {
          "output_type": "stream",
          "text": [
            "La exactitud es: 98.25%\n"
          ],
          "name": "stdout"
        }
      ]
    },
    {
      "cell_type": "code",
      "metadata": {
        "colab": {
          "base_uri": "https://localhost:8080/"
        },
        "id": "wt23eLyNotx4",
        "outputId": "2ff0f28c-e4cd-4f8f-e794-e234b3992db0"
      },
      "source": [
        "print(puntaje(X2))"
      ],
      "execution_count": 20,
      "outputs": [
        {
          "output_type": "stream",
          "text": [
            "La exactitud es: 98.25%\n"
          ],
          "name": "stdout"
        }
      ]
    },
    {
      "cell_type": "markdown",
      "metadata": {
        "id": "2lDXIQUGQxO-"
      },
      "source": [
        "# 3. Datos correlacionados"
      ]
    },
    {
      "cell_type": "code",
      "metadata": {
        "id": "N_r7Ni_HaOAV"
      },
      "source": [
        ""
      ],
      "execution_count": null,
      "outputs": []
    },
    {
      "cell_type": "code",
      "metadata": {
        "id": "qUQ8XhDMaOEP"
      },
      "source": [
        ""
      ],
      "execution_count": null,
      "outputs": []
    },
    {
      "cell_type": "code",
      "metadata": {
        "id": "5sOnwVgvaOIG"
      },
      "source": [
        ""
      ],
      "execution_count": null,
      "outputs": []
    },
    {
      "cell_type": "markdown",
      "metadata": {
        "id": "DQKzu1KDQ32n"
      },
      "source": [
        "# 4. Automatizando la selección de los datos\n",
        "\n",
        "##### *https://scikit-learn.org/stable/modules/generated/sklearn.feature_selection.SelectKBest.html*\n",
        "\n",
        "*https://scikit-learn.org/stable/modules/generated/sklearn.feature_selection.chi2.html*\n",
        "\n",
        "*https://scikit-learn.org/stable/modules/generated/sklearn.metrics.plot_confusion_matrix.html*\n",
        "\n",
        "*https://scikit-learn.org/stable/modules/generated/sklearn.feature_selection.RFE.html*"
      ]
    },
    {
      "cell_type": "code",
      "metadata": {
        "id": "Qh908eM9pHpG"
      },
      "source": [
        ""
      ],
      "execution_count": 13,
      "outputs": []
    },
    {
      "cell_type": "code",
      "metadata": {
        "id": "GG4uIZHGpHwm"
      },
      "source": [
        ""
      ],
      "execution_count": 13,
      "outputs": []
    },
    {
      "cell_type": "code",
      "metadata": {
        "id": "FUBA2C1GpH7V"
      },
      "source": [
        ""
      ],
      "execution_count": 13,
      "outputs": []
    },
    {
      "cell_type": "markdown",
      "metadata": {
        "id": "KXUegHEPRBcH"
      },
      "source": [
        "# 5. Visualizando los datos en el plano\n",
        "\n",
        "##### *https://scikit-learn.org/stable/modules/generated/sklearn.feature_selection.RFECV.html*\n",
        "\n",
        "*https://scikit-learn.org/stable/modules/generated/sklearn.decomposition.PCA.html*\n",
        "\n",
        "*https://scikit-learn.org/stable/modules/generated/sklearn.manifold.TSNE.html*"
      ]
    },
    {
      "cell_type": "code",
      "metadata": {
        "id": "SG-bEy7wsIAL"
      },
      "source": [
        ""
      ],
      "execution_count": null,
      "outputs": []
    },
    {
      "cell_type": "code",
      "metadata": {
        "id": "gUmMjvgksIIp"
      },
      "source": [
        ""
      ],
      "execution_count": null,
      "outputs": []
    },
    {
      "cell_type": "code",
      "metadata": {
        "id": "hvOsfofZsIQh"
      },
      "source": [
        ""
      ],
      "execution_count": null,
      "outputs": []
    }
  ]
}